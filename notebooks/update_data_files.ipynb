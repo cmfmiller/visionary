{
 "cells": [
  {
   "cell_type": "code",
   "execution_count": 1,
   "metadata": {
    "colab": {},
    "colab_type": "code",
    "id": "NoxrhMhanwNv"
   },
   "outputs": [],
   "source": [
    "import sys"
   ]
  },
  {
   "cell_type": "code",
   "execution_count": 2,
   "metadata": {
    "colab": {},
    "colab_type": "code",
    "id": "NoxrhMhanwNv"
   },
   "outputs": [],
   "source": [
    "sys.path.append('../scripts/')"
   ]
  },
  {
   "cell_type": "code",
   "execution_count": 3,
   "metadata": {
    "colab": {},
    "colab_type": "code",
    "id": "3oeNGxR0Xbz1"
   },
   "outputs": [],
   "source": [
    "import car_counting_functions as ccf\n",
    "import pandas as pd\n",
    "import numpy as np"
   ]
  },
  {
   "cell_type": "markdown",
   "metadata": {},
   "source": [
    "# Add new validated data set"
   ]
  },
  {
   "cell_type": "code",
   "execution_count": null,
   "metadata": {},
   "outputs": [],
   "source": [
    "base_path = \"../data/raw/July 8/\"\n",
    "all_path = \"../data/processed/all_validated.csv\"\n",
    "val_path = \"../data/processed/july8.csv\""
   ]
  },
  {
   "cell_type": "code",
   "execution_count": null,
   "metadata": {},
   "outputs": [],
   "source": [
    "all_df = ccf.add_new_images(base_path, all_path, validate = True, val_csv_path = val_path)"
   ]
  },
  {
   "cell_type": "code",
   "execution_count": null,
   "metadata": {},
   "outputs": [],
   "source": [
    "all_df.to_csv(\"../data/processed/all_validated.csv\", index=False)"
   ]
  },
  {
   "cell_type": "markdown",
   "metadata": {},
   "source": [
    "# Add new data without validation counts"
   ]
  },
  {
   "cell_type": "code",
   "execution_count": 4,
   "metadata": {},
   "outputs": [],
   "source": [
    "base_path = \"../data/raw/\"\n",
    "all_path = \"../data/processed/just_yolo.csv\""
   ]
  },
  {
   "cell_type": "code",
   "execution_count": null,
   "metadata": {},
   "outputs": [],
   "source": [
    "no_val = ccf.add_new_images(base_path, all_path)"
   ]
  },
  {
   "cell_type": "code",
   "execution_count": null,
   "metadata": {},
   "outputs": [],
   "source": [
    "no_val.to_csv(\"../data/processed/just_yolo.csv\", index=False)"
   ]
  },
  {
   "cell_type": "code",
   "execution_count": null,
   "metadata": {},
   "outputs": [],
   "source": [
    "no_val.head()"
   ]
  },
  {
   "cell_type": "code",
   "execution_count": 5,
   "metadata": {},
   "outputs": [
    {
     "name": "stdout",
     "output_type": "stream",
     "text": [
      "['Slavin', 'AntoineW', 'StevensCreek', 'IllerCreek', 'Glenrose']\n",
      "['../data/raw/Slavin/11-06-2020-17-36.jpeg', '../data/raw/AntoineW/11-06-2020-17-36.jpeg', '../data/raw/StevensCreek/11-06-2020-17-36.jpeg', '../data/raw/IllerCreek/11-06-2020-17-36.jpeg', '../data/raw/Glenrose/11-06-2020-17-36.jpeg']\n",
      "[{'Parking_lot': 'Slavin', 'file_name': '11-06-2020-17-36.jpeg', 'date_time': '11-06-2020-17-36', 'yolo_car_count': 2}, {'Parking_lot': 'AntoineW', 'file_name': '11-06-2020-17-36.jpeg', 'date_time': '11-06-2020-17-36', 'yolo_car_count': 2}, {'Parking_lot': 'StevensCreek', 'file_name': '11-06-2020-17-36.jpeg', 'date_time': '11-06-2020-17-36', 'yolo_car_count': 0}, {'Parking_lot': 'IllerCreek', 'file_name': '11-06-2020-17-36.jpeg', 'date_time': '11-06-2020-17-36', 'yolo_car_count': 8}, {'Parking_lot': 'Glenrose', 'file_name': '11-06-2020-17-36.jpeg', 'date_time': '11-06-2020-17-36', 'yolo_car_count': 6}]\n"
     ]
    }
   ],
   "source": [
    "test = ccf.add_current_images(base_path, all_path)"
   ]
  },
  {
   "cell_type": "code",
   "execution_count": 6,
   "metadata": {},
   "outputs": [
    {
     "name": "stdout",
     "output_type": "stream",
     "text": [
      "<class 'pandas.core.frame.DataFrame'>\n",
      "Int64Index: 4846 entries, 0 to 4\n",
      "Data columns (total 3 columns):\n",
      " #   Column          Non-Null Count  Dtype  \n",
      "---  ------          --------------  -----  \n",
      " 0   Parking_lot     4846 non-null   object \n",
      " 1   yolo_car_count  4818 non-null   float64\n",
      " 2   date_time       4846 non-null   object \n",
      "dtypes: float64(1), object(2)\n",
      "memory usage: 151.4+ KB\n"
     ]
    }
   ],
   "source": [
    "test.info()"
   ]
  },
  {
   "cell_type": "code",
   "execution_count": null,
   "metadata": {},
   "outputs": [],
   "source": [
    "un_edited = pd.read_csv(\"../data/processed/just_yolo.csv\")"
   ]
  },
  {
   "cell_type": "code",
   "execution_count": null,
   "metadata": {},
   "outputs": [],
   "source": [
    "un_edited.info()"
   ]
  },
  {
   "cell_type": "code",
   "execution_count": null,
   "metadata": {},
   "outputs": [],
   "source": []
  },
  {
   "cell_type": "code",
   "execution_count": null,
   "metadata": {},
   "outputs": [],
   "source": []
  },
  {
   "cell_type": "code",
   "execution_count": null,
   "metadata": {},
   "outputs": [],
   "source": []
  },
  {
   "cell_type": "code",
   "execution_count": null,
   "metadata": {},
   "outputs": [],
   "source": []
  }
 ],
 "metadata": {
  "accelerator": "GPU",
  "colab": {
   "authorship_tag": "ABX9TyPOA0yd7QPIco4FuACgYHd9",
   "mount_file_id": "1O_EhuJZ8i2E4ZlzQNw1_weYQMPq4V-Z2",
   "name": "car_count_validation.ipynb",
   "provenance": []
  },
  "kernelspec": {
   "display_name": "Python 3",
   "language": "python",
   "name": "python3"
  },
  "language_info": {
   "codemirror_mode": {
    "name": "ipython",
    "version": 3
   },
   "file_extension": ".py",
   "mimetype": "text/x-python",
   "name": "python",
   "nbconvert_exporter": "python",
   "pygments_lexer": "ipython3",
   "version": "3.7.6"
  }
 },
 "nbformat": 4,
 "nbformat_minor": 1
}
