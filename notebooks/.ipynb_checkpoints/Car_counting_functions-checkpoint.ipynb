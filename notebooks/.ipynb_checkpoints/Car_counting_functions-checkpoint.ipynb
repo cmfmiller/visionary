{
 "cells": [
  {
   "cell_type": "code",
   "execution_count": 0,
   "metadata": {
    "colab": {},
    "colab_type": "code",
    "id": "Oy9GbMmIP058"
   },
   "outputs": [],
   "source": [
    "import cv2\n",
    "import matplotlib.pyplot as plt\n",
    "import cvlib as cv\n",
    "from cvlib.object_detection import draw_bbox\n",
    "import pandas as pd\n",
    "import os"
   ]
  },
  {
   "cell_type": "code",
   "execution_count": 0,
   "metadata": {
    "colab": {},
    "colab_type": "code",
    "id": "Hi1RvtU1xtK7"
   },
   "outputs": [],
   "source": [
    "def one_cam_paths(cam_folder_path):\n",
    "  # create list of images for a cam \n",
    "  image_files = []\n",
    "  for (dirpath, dirnames, filenames) in os.walk(cam_folder_path):\n",
    "    image_files.extend(filenames)\n",
    "    break\n",
    "\n",
    "  # remove .DS file\n",
    "  DS = \".DS_Store\"\n",
    "  if DS in image_files: \n",
    "    image_files.remove(DS)\n",
    "  \n",
    "  # generate full file paths for each image the the cam\n",
    "  image_paths = [cam_folder_path + img for img in image_files]\n",
    "  return image_paths"
   ]
  },
  {
   "cell_type": "code",
   "execution_count": 0,
   "metadata": {
    "colab": {},
    "colab_type": "code",
    "id": "8-xj62-CzAfT"
   },
   "outputs": [],
   "source": [
    "def get_image_paths(base_path):\n",
    "  # get list of files for each camera\n",
    "  cam_list = []\n",
    "  for (dirpath, dirnames, filenames) in os.walk(base_path):\n",
    "    cam_list.extend(dirnames)\n",
    "    break\n",
    "\n",
    "  # use cam list to generate file path to each cam\n",
    "  cam_paths = [base_path + cam + \"/\" for cam in cam_list]\n",
    "  \n",
    "  # define list of paths to all images\n",
    "  all_image_paths = []\n",
    "  for path in cam_paths:\n",
    "    image_paths = one_cam_paths(path) # defined above\n",
    "    all_image_paths.extend(image_paths)\n",
    "\n",
    "  return all_image_paths"
   ]
  },
  {
   "cell_type": "code",
   "execution_count": 0,
   "metadata": {
    "colab": {},
    "colab_type": "code",
    "id": "sXY_cEQJ5lPo"
   },
   "outputs": [],
   "source": [
    "def car_count(image_path):\n",
    "  im = cv2.imread(image_path) \n",
    "  bbox, label, conf = cv.detect_common_objects(im)  \n",
    "  car_count = label.count('truck') + label.count('car') + label.count('bus')\n",
    "  return car_count"
   ]
  },
  {
   "cell_type": "code",
   "execution_count": 0,
   "metadata": {
    "colab": {},
    "colab_type": "code",
    "id": "vFmv3ZBV6W_C"
   },
   "outputs": [],
   "source": [
    "def show_image_detection(image_path):\n",
    "  im = cv2.imread(image_path)\n",
    "  bbox, label, conf = cv.detect_common_objects(im)\n",
    "  output_image = draw_bbox(im, bbox, label, conf)\n",
    "  plt.imshow(output_image)\n",
    "  plt.show()"
   ]
  },
  {
   "cell_type": "code",
   "execution_count": 0,
   "metadata": {
    "colab": {},
    "colab_type": "code",
    "id": "8E6nskZN6z8Z"
   },
   "outputs": [],
   "source": [
    "def yolo_counts_dict(image_path):\n",
    "  yolo_count = car_count(image_path)\n",
    "  cam_name = image_path.split(\"/\")[-2]\n",
    "  file_name = image_path.split(\"/\")[-1]\n",
    "  file_split = file_name.split(\"-\")\n",
    "  day = int(file_split[0])\n",
    "  month = int(file_split[1])\n",
    "  year = int(file_split[2])\n",
    "  hour = int(file_split[3])\n",
    "  minute = int(file_split[-1].split(\".\")[0])\n",
    "\n",
    "  return {\"Parking_lot\": cam_name, \n",
    "          \"file_name\": file_name,  \n",
    "          \"month\": month, \n",
    "          \"day\" : day, \n",
    "          \"year\": year,\n",
    "          \"hour\" : hour,\n",
    "          \"minute\": minute, \n",
    "          \"yolo_car_count\" : yolo_count}"
   ]
  },
  {
   "cell_type": "code",
   "execution_count": 0,
   "metadata": {
    "colab": {},
    "colab_type": "code",
    "id": "ONtwX8yPdGPD"
   },
   "outputs": [],
   "source": [
    "car_count"
   ]
  }
 ],
 "metadata": {
  "accelerator": "GPU",
  "colab": {
   "authorship_tag": "ABX9TyM97tvHxexNcWeRCP/sxAwp",
   "collapsed_sections": [],
   "mount_file_id": "1RZg51RLxjhbyVg6m5wttS2qdAD6TWdRC",
   "name": "Car_counting_functions.ipynb",
   "provenance": []
  },
  "kernelspec": {
   "display_name": "Python 3",
   "language": "python",
   "name": "python3"
  },
  "language_info": {
   "codemirror_mode": {
    "name": "ipython",
    "version": 3
   },
   "file_extension": ".py",
   "mimetype": "text/x-python",
   "name": "python",
   "nbconvert_exporter": "python",
   "pygments_lexer": "ipython3",
   "version": "3.7.6"
  }
 },
 "nbformat": 4,
 "nbformat_minor": 1
}
