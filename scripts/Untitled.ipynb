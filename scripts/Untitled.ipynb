{
 "cells": [
  {
   "cell_type": "code",
   "execution_count": 127,
   "metadata": {},
   "outputs": [],
   "source": [
    "# Web scraping tools\n",
    "import lxml.html as lx\n",
    "import requests"
   ]
  },
  {
   "cell_type": "code",
   "execution_count": 128,
   "metadata": {},
   "outputs": [],
   "source": [
    "cp_url = 'http://www.dermnet.com/images/Varicella/photos/'\n",
    "cp_kw = \"'Varicella'\""
   ]
  },
  {
   "cell_type": "code",
   "execution_count": 100,
   "metadata": {},
   "outputs": [],
   "source": [
    "# can use get_picture_links function from dermnet NZ with a diferent keyword                                                                        "
   ]
  },
  {
   "cell_type": "code",
   "execution_count": 133,
   "metadata": {},
   "outputs": [],
   "source": [
    "# function to find link to next page\n",
    "def get_all_urls(base_url):\n",
    "    # get response from url\n",
    "    page1_url = base_url + \"1\"\n",
    "    response = requests.get(page1_url)\n",
    "    response.raise_for_status()\n",
    "\n",
    "    # parse response to html\n",
    "    html = lx.fromstring(response.text)\n",
    "    html.make_links_absolute(page1_url)    \n",
    "\n",
    "    # count the number of pages with images\n",
    "    page_links = html.xpath(\"//div[contains(@class, 'pagination')]/a\")\n",
    "    \n",
    "    # divide by 2 becuase there links are repeated at top and bottom of the page\n",
    "    page_count = len(page_links)//2 # integer division\n",
    "\n",
    "    # generate list of all page urls for given rash\n",
    "    all_page_urls = [cp_url + str(count) for count in list(np.arange(1, page_count + 1))]\n",
    "    return all_page_urls "
   ]
  },
  {
   "cell_type": "code",
   "execution_count": null,
   "metadata": {},
   "outputs": [],
   "source": []
  },
  {
   "cell_type": "code",
   "execution_count": null,
   "metadata": {},
   "outputs": [],
   "source": []
  },
  {
   "cell_type": "code",
   "execution_count": 140,
   "metadata": {},
   "outputs": [],
   "source": [
    "cp_urls = get_all_urls(base_url= cp_url)"
   ]
  },
  {
   "cell_type": "code",
   "execution_count": 142,
   "metadata": {},
   "outputs": [
    {
     "data": {
      "text/plain": [
       "['http://www.dermnet.com/images/Varicella/photos/1',\n",
       " 'http://www.dermnet.com/images/Varicella/photos/2',\n",
       " 'http://www.dermnet.com/images/Varicella/photos/3',\n",
       " 'http://www.dermnet.com/images/Varicella/photos/4',\n",
       " 'http://www.dermnet.com/images/Varicella/photos/5',\n",
       " 'http://www.dermnet.com/images/Varicella/photos/6']"
      ]
     },
     "execution_count": 142,
     "metadata": {},
     "output_type": "execute_result"
    }
   ],
   "source": [
    "cp_urls"
   ]
  },
  {
   "cell_type": "code",
   "execution_count": null,
   "metadata": {},
   "outputs": [],
   "source": []
  },
  {
   "cell_type": "code",
   "execution_count": null,
   "metadata": {},
   "outputs": [],
   "source": [
    "# wapper function for Dermnet"
   ]
  },
  {
   "cell_type": "code",
   "execution_count": 154,
   "metadata": {},
   "outputs": [],
   "source": [
    "def dermnet_wrapper(start_url, key_word, base_path):\n",
    "    page_urls = get_all_urls(start_url)\n",
    "\n",
    "    pic_links = []\n",
    "    for url in page_urls:\n",
    "        links = get_picture_links(url, key_word)\n",
    "        pic_links.extend(links)\n",
    "    \n",
    "    for count, link in enumerate(pic_links, 1):\n",
    "        try:\n",
    "            path = base_path + \"dermnet\" + str(count) + \".jpeg\"\n",
    "            save_image(link, path)\n",
    "        except:\n",
    "            print(\"no picture\")"
   ]
  },
  {
   "cell_type": "code",
   "execution_count": 155,
   "metadata": {},
   "outputs": [],
   "source": [
    "dermnet_wrapper(start_url = cp_url, \n",
    "                key_word = cp_kw, base_path = \"../data/raw/chicken_pox/\" )"
   ]
  },
  {
   "cell_type": "code",
   "execution_count": null,
   "metadata": {},
   "outputs": [],
   "source": []
  },
  {
   "cell_type": "code",
   "execution_count": 153,
   "metadata": {},
   "outputs": [
    {
     "name": "stdout",
     "output_type": "stream",
     "text": [
      "README.md        environment.yml  \u001b[34mprojectname\u001b[m\u001b[m/\r\n",
      "\u001b[34mdata\u001b[m\u001b[m/            \u001b[34mnotebooks\u001b[m\u001b[m/       \u001b[34mscripts\u001b[m\u001b[m/\r\n"
     ]
    }
   ],
   "source": [
    "ls .."
   ]
  },
  {
   "cell_type": "code",
   "execution_count": null,
   "metadata": {},
   "outputs": [],
   "source": [
    "ls //data"
   ]
  },
  {
   "cell_type": "code",
   "execution_count": null,
   "metadata": {},
   "outputs": [],
   "source": []
  },
  {
   "cell_type": "code",
   "execution_count": 147,
   "metadata": {},
   "outputs": [],
   "source": [
    "pic_links = []\n",
    "for url in cp_urls:\n",
    "    links = get_picture_links(url, cp_kw)\n",
    "    pic_links.extend(links)"
   ]
  },
  {
   "cell_type": "code",
   "execution_count": null,
   "metadata": {},
   "outputs": [],
   "source": []
  },
  {
   "cell_type": "code",
   "execution_count": null,
   "metadata": {},
   "outputs": [],
   "source": []
  },
  {
   "cell_type": "code",
   "execution_count": 148,
   "metadata": {},
   "outputs": [
    {
     "data": {
      "text/plain": [
       "['http://www.dermnet.com/dn2/allJPGThumb3/12ChickenPoxBack.jpg',\n",
       " 'http://www.dermnet.com/dn2/allJPGThumb3/12ChickenPoxLesions.jpg',\n",
       " 'http://www.dermnet.com/dn2/allJPGThumb3/12ChickenPoxVesicle.jpg',\n",
       " 'http://www.dermnet.com/dn2/allJPGThumb3/12ChickPoxTrunk.jpg',\n",
       " 'http://www.dermnet.com/dn2/allJPGThumb3/12varicella9071.jpg',\n",
       " 'http://www.dermnet.com/dn2/allJPGThumb3/12varicella9072.jpg',\n",
       " 'http://www.dermnet.com/dn2/allJPGThumb3/varicella-1.jpg',\n",
       " 'http://www.dermnet.com/dn2/allJPGThumb3/varicella-10.jpg',\n",
       " 'http://www.dermnet.com/dn2/allJPGThumb3/varicella-11.jpg',\n",
       " 'http://www.dermnet.com/dn2/allJPGThumb3/varicella-12.jpg',\n",
       " 'http://www.dermnet.com/dn2/allJPGThumb3/varicella-14.jpg',\n",
       " 'http://www.dermnet.com/dn2/allJPGThumb3/varicella-15.jpg',\n",
       " 'http://www.dermnet.com/dn2/allJPGThumb3/varicella-16.jpg',\n",
       " 'http://www.dermnet.com/dn2/allJPGThumb3/varicella-17.jpg',\n",
       " 'http://www.dermnet.com/dn2/allJPGThumb3/varicella-18.jpg',\n",
       " 'http://www.dermnet.com/dn2/allJPGThumb3/varicella-19.jpg',\n",
       " 'http://www.dermnet.com/dn2/allJPGThumb3/varicella-2.jpg',\n",
       " 'http://www.dermnet.com/dn2/allJPGThumb3/varicella-20.jpg',\n",
       " 'http://www.dermnet.com/dn2/allJPGThumb3/varicella-21.jpg',\n",
       " 'http://www.dermnet.com/dn2/allJPGThumb3/varicella-22.jpg',\n",
       " 'http://www.dermnet.com/dn2/allJPGThumb3/varicella-23.jpg',\n",
       " 'http://www.dermnet.com/dn2/allJPGThumb3/varicella-24.jpg',\n",
       " 'http://www.dermnet.com/dn2/allJPGThumb3/varicella-25.jpg',\n",
       " 'http://www.dermnet.com/dn2/allJPGThumb3/varicella-26.jpg',\n",
       " 'http://www.dermnet.com/dn2/allJPGThumb3/varicella-27.jpg',\n",
       " 'http://www.dermnet.com/dn2/allJPGThumb3/varicella-28.jpg',\n",
       " 'http://www.dermnet.com/dn2/allJPGThumb3/varicella-29.jpg',\n",
       " 'http://www.dermnet.com/dn2/allJPGThumb3/varicella-3.jpg',\n",
       " 'http://www.dermnet.com/dn2/allJPGThumb3/varicella-30.jpg',\n",
       " 'http://www.dermnet.com/dn2/allJPGThumb3/varicella-31.jpg',\n",
       " 'http://www.dermnet.com/dn2/allJPGThumb3/varicella-32.jpg',\n",
       " 'http://www.dermnet.com/dn2/allJPGThumb3/varicella-33.jpg',\n",
       " 'http://www.dermnet.com/dn2/allJPGThumb3/varicella-34.jpg',\n",
       " 'http://www.dermnet.com/dn2/allJPGThumb3/varicella-35.jpg',\n",
       " 'http://www.dermnet.com/dn2/allJPGThumb3/varicella-36.jpg',\n",
       " 'http://www.dermnet.com/dn2/allJPGThumb3/varicella-37.jpg',\n",
       " 'http://www.dermnet.com/dn2/allJPGThumb3/varicella-38.jpg',\n",
       " 'http://www.dermnet.com/dn2/allJPGThumb3/varicella-39.jpg',\n",
       " 'http://www.dermnet.com/dn2/allJPGThumb3/varicella-4.jpg',\n",
       " 'http://www.dermnet.com/dn2/allJPGThumb3/varicella-40.jpg',\n",
       " 'http://www.dermnet.com/dn2/allJPGThumb3/varicella-41.jpg',\n",
       " 'http://www.dermnet.com/dn2/allJPGThumb3/varicella-42.jpg',\n",
       " 'http://www.dermnet.com/dn2/allJPGThumb3/varicella-43.jpg',\n",
       " 'http://www.dermnet.com/dn2/allJPGThumb3/varicella-44.jpg',\n",
       " 'http://www.dermnet.com/dn2/allJPGThumb3/varicella-45.jpg',\n",
       " 'http://www.dermnet.com/dn2/allJPGThumb3/varicella-46.jpg',\n",
       " 'http://www.dermnet.com/dn2/allJPGThumb3/varicella-47.jpg',\n",
       " 'http://www.dermnet.com/dn2/allJPGThumb3/varicella-48.jpg',\n",
       " 'http://www.dermnet.com/dn2/allJPGThumb3/varicella-49.jpg',\n",
       " 'http://www.dermnet.com/dn2/allJPGThumb3/varicella-5.jpg',\n",
       " 'http://www.dermnet.com/dn2/allJPGThumb3/varicella-50.jpg',\n",
       " 'http://www.dermnet.com/dn2/allJPGThumb3/varicella-51.jpg',\n",
       " 'http://www.dermnet.com/dn2/allJPGThumb3/varicella-52.jpg',\n",
       " 'http://www.dermnet.com/dn2/allJPGThumb3/varicella-53.jpg',\n",
       " 'http://www.dermnet.com/dn2/allJPGThumb3/varicella-54.jpg',\n",
       " 'http://www.dermnet.com/dn2/allJPGThumb3/varicella-55.jpg',\n",
       " 'http://www.dermnet.com/dn2/allJPGThumb3/varicella-56.jpg',\n",
       " 'http://www.dermnet.com/dn2/allJPGThumb3/varicella-57.jpg',\n",
       " 'http://www.dermnet.com/dn2/allJPGThumb3/varicella-58.jpg',\n",
       " 'http://www.dermnet.com/dn2/allJPGThumb3/varicella-59.jpg',\n",
       " 'http://www.dermnet.com/dn2/allJPGThumb3/varicella-6.jpg',\n",
       " 'http://www.dermnet.com/dn2/allJPGThumb3/varicella-60.jpg',\n",
       " 'http://www.dermnet.com/dn2/allJPGThumb3/varicella-7.jpg',\n",
       " 'http://www.dermnet.com/dn2/allJPGThumb3/varicella-8.jpg',\n",
       " 'http://www.dermnet.com/dn2/allJPGThumb3/varicella-9.jpg']"
      ]
     },
     "execution_count": 148,
     "metadata": {},
     "output_type": "execute_result"
    }
   ],
   "source": [
    "pic_links"
   ]
  },
  {
   "cell_type": "code",
   "execution_count": 137,
   "metadata": {},
   "outputs": [
    {
     "data": {
      "text/plain": [
       "'http://www.dermnet.com/images/Varicella/photos/'"
      ]
     },
     "execution_count": 137,
     "metadata": {},
     "output_type": "execute_result"
    }
   ],
   "source": [
    "cp_url"
   ]
  },
  {
   "cell_type": "code",
   "execution_count": 126,
   "metadata": {},
   "outputs": [
    {
     "data": {
      "text/plain": [
       "6"
      ]
     },
     "execution_count": 126,
     "metadata": {},
     "output_type": "execute_result"
    }
   ],
   "source": [
    "len(count_pages)//2"
   ]
  },
  {
   "cell_type": "code",
   "execution_count": 124,
   "metadata": {},
   "outputs": [
    {
     "data": {
      "text/plain": [
       "6.0"
      ]
     },
     "execution_count": 124,
     "metadata": {},
     "output_type": "execute_result"
    }
   ],
   "source": [
    "page_count"
   ]
  },
  {
   "cell_type": "code",
   "execution_count": 102,
   "metadata": {},
   "outputs": [
    {
     "data": {
      "text/plain": [
       "12"
      ]
     },
     "execution_count": 102,
     "metadata": {},
     "output_type": "execute_result"
    }
   ],
   "source": [
    "len(picture_links)"
   ]
  },
  {
   "cell_type": "code",
   "execution_count": 103,
   "metadata": {},
   "outputs": [
    {
     "data": {
      "text/plain": [
       "72"
      ]
     },
     "execution_count": 103,
     "metadata": {},
     "output_type": "execute_result"
    }
   ],
   "source": [
    "6*12"
   ]
  },
  {
   "cell_type": "code",
   "execution_count": null,
   "metadata": {},
   "outputs": [],
   "source": []
  },
  {
   "cell_type": "code",
   "execution_count": null,
   "metadata": {},
   "outputs": [],
   "source": [
    "# get list of page links for each rash picture\n",
    "def get_picture_links(start_page, key_word):\n",
    "    \n",
    "    response = requests.get(start_page)\n",
    "    \n",
    "    html = lx.fromstring(response.text)\n",
    "    html.make_links_absolute(start_page)\n",
    "    \n",
    "    path = \"//img[contains(@alt, {})]/@src\".format(key_word)\n",
    "    picture_links = html.xpath(path)\n",
    "    return picture_links\n",
    "\n",
    "\n",
    "# save image to file\n",
    "def save_image(image_link, file_path):\n",
    "    with open(file_path, 'wb') as handle:\n",
    "        response = requests.get(image_link, stream=True)\n",
    "\n",
    "        if not response.ok:\n",
    "            print(response)\n",
    "\n",
    "        for block in response.iter_content(1024):\n",
    "            if not block:\n",
    "                break\n",
    "\n",
    "            handle.write(block)\n",
    "            \n",
    "            \n",
    "# wrapper for a start page for a specific rash \n",
    "def dermnet_wrapper(start_url, key_word, base_path):\n",
    " \n",
    "    pic_links = get_picture_links( start_url, key_word)\n",
    "    \n",
    "    for count, link in enumerate(pic_links, 1):\n",
    "        try:\n",
    "            path = base_path + \"pic\" + str(count) + \".jpeg\"\n",
    "            save_image(link, path)\n",
    "        except:\n",
    "            print(\"no picture\")"
   ]
  }
 ],
 "metadata": {
  "kernelspec": {
   "display_name": "Python 3",
   "language": "python",
   "name": "python3"
  },
  "language_info": {
   "codemirror_mode": {
    "name": "ipython",
    "version": 3
   },
   "file_extension": ".py",
   "mimetype": "text/x-python",
   "name": "python",
   "nbconvert_exporter": "python",
   "pygments_lexer": "ipython3",
   "version": "3.7.6"
  }
 },
 "nbformat": 4,
 "nbformat_minor": 4
}
