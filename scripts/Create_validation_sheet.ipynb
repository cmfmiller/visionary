{
 "cells": [
  {
   "cell_type": "code",
   "execution_count": 1,
   "metadata": {},
   "outputs": [],
   "source": [
    "# import pandas\n",
    "import pandas as pd\n",
    "from os import walk\n"
   ]
  },
  {
   "cell_type": "code",
   "execution_count": 2,
   "metadata": {},
   "outputs": [],
   "source": [
    "# get list of all files in image folder\n",
    "def one_cam(cam, base_path = \"../data/raw/\"):\n",
    "    file_path = base_path + cam + \"/\"\n",
    "\n",
    "    # get names of all image files in folder\n",
    "    images = []\n",
    "    for (dirpath, dirnames, filenames) in walk(file_path):\n",
    "        images.extend(filenames)\n",
    "        break\n",
    "    \n",
    "    # create df\n",
    "    val_set = pd.DataFrame({\"Parking_lot\": cam, \"image\" : images})\n",
    "    val_set = val_set[val_set.image != \".DS_Store\"]\n",
    "    return val_set"
   ]
  },
  {
   "cell_type": "code",
   "execution_count": 3,
   "metadata": {},
   "outputs": [],
   "source": [
    "cam_list = [\"AntoineW\", \"Glenrose\", \"IllerCreek\", \"StevensCreek\"]"
   ]
  },
  {
   "cell_type": "code",
   "execution_count": 4,
   "metadata": {},
   "outputs": [],
   "source": [
    "def all_in_one(cam_list, base_path):\n",
    "    # loop through cams\n",
    "    list = [one_cam(cam, base_path) for cam in cam_list]\n",
    "    \n",
    "    # combine into one df\n",
    "    all = pd.concat(list)\n",
    "    all = all.reset_index(drop=True)\n",
    "    return all"
   ]
  },
  {
   "cell_type": "code",
   "execution_count": 5,
   "metadata": {},
   "outputs": [],
   "source": [
    "all = all_in_one(cam_list, base_path = \"../data/raw/\")"
   ]
  },
  {
   "cell_type": "code",
   "execution_count": 6,
   "metadata": {},
   "outputs": [],
   "source": [
    "# save to csv\n",
    "all.to_csv('../data/processed/july3.csv', index=False)"
   ]
  },
  {
   "cell_type": "code",
   "execution_count": null,
   "metadata": {},
   "outputs": [],
   "source": []
  }
 ],
 "metadata": {
  "kernelspec": {
   "display_name": "Python 3",
   "language": "python",
   "name": "python3"
  },
  "language_info": {
   "codemirror_mode": {
    "name": "ipython",
    "version": 3
   },
   "file_extension": ".py",
   "mimetype": "text/x-python",
   "name": "python",
   "nbconvert_exporter": "python",
   "pygments_lexer": "ipython3",
   "version": "3.7.6"
  }
 },
 "nbformat": 4,
 "nbformat_minor": 4
}
